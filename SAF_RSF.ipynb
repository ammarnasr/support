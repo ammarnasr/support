{
  "cells": [
    {
      "cell_type": "code",
      "execution_count": null,
      "metadata": {
        "id": "KlBbYsItyFKJ"
      },
      "outputs": [],
      "source": [
        "import numpy as np\n",
        "import pandas as pd\n",
        "import seaborn as sns\n",
        "from matplotlib import pyplot as plt"
      ]
    },
    {
      "cell_type": "code",
      "execution_count": null,
      "metadata": {
        "id": "AZHvvwZiyHLH"
      },
      "outputs": [],
      "source": [
        "# Read and present data\n",
        "df_saf = pd.read_csv('FB_SAF.csv')\n",
        "df_rsf = pd.read_csv('FB_RSF.csv')\n",
        "\n",
        "# Merge both dfs together in one df\n",
        "df_merged = pd.concat([df_saf, df_rsf], axis=0)"
      ]
    },
    {
      "cell_type": "code",
      "execution_count": null,
      "metadata": {
        "colab": {
          "base_uri": "https://localhost:8080/",
          "height": 341
        },
        "id": "Ff3XUyY4ybmi",
        "outputId": "a8bdd395-def6-466b-f352-6322d56e6535"
      },
      "outputs": [],
      "source": [
        "# Comparison between the # of tweets\n",
        "plt.figure(figsize=(3,3))\n",
        "colors = sns.color_palette('pastel')[0:2]\n",
        "plt.pie([len(df_rsf), len(df_saf)], labels=['RSF Posts','SAF Posts'], autopct='%1.1f%%', shadow=True, startangle=140, colors = colors)\n",
        "plt.axis('equal')"
      ]
    },
    {
      "cell_type": "code",
      "execution_count": null,
      "metadata": {
        "id": "WR96OuxUzCLs"
      },
      "outputs": [],
      "source": [
        "# Posts over time\n",
        "df_merged['time'] = pd.to_datetime(df_merged['time'])\n",
        "df_saf['time'] = pd.to_datetime(df_saf['time'])\n",
        "df_rsf['time'] = pd.to_datetime(df_rsf['time'])\n",
        "\n",
        "df_merged = df_merged.set_index(['time'])\n",
        "df_saf = df_saf.set_index(['time'])\n",
        "df_rsf = df_rsf.set_index(['time'])"
      ]
    },
    {
      "cell_type": "code",
      "execution_count": null,
      "metadata": {
        "id": "YmCfz_PZ163V"
      },
      "outputs": [],
      "source": [
        "def f(x): return pd.Series(dict(Number_of_Posts = x['text'].count(),))\n",
        "\n",
        "daily_count_merged = df_merged.groupby(df_merged.index.date).apply(f)\n",
        "daily_count_saf = df_saf.groupby(df_saf.index.date).apply(f)\n",
        "daily_count_rsf = df_rsf.groupby(df_rsf.index.date).apply(f)\n",
        "daily_count_merged.index.name, daily_count_saf.index.name, daily_count_rsf.index.name = 'date', 'date', 'date'"
      ]
    },
    {
      "cell_type": "code",
      "execution_count": null,
      "metadata": {
        "colab": {
          "base_uri": "https://localhost:8080/",
          "height": 657
        },
        "id": "H46ZR7VO20SY",
        "outputId": "d1e73c1b-70a2-4cbe-fc2d-a729b43db103"
      },
      "outputs": [],
      "source": [
        "daily_plot_merged = daily_count_merged['Number_of_Posts'].plot(kind='line', lw=1, alpha=0.75, legend=True, x_compat=True, label='Total Posts')\n",
        "daily_plot_saf = daily_count_saf['Number_of_Posts'].plot(kind='line', lw=1, alpha=0.75, legend=True, x_compat=True, label='SAF Posts')\n",
        "daily_plot_rsf = daily_count_rsf['Number_of_Posts'].plot(kind='line', lw=1, alpha=0.75, legend=True, x_compat=True, label='RSF Posts')\n",
        "\n",
        "daily_plot_merged.set_xlabel('Month', weight='bold', labelpad=15) \n",
        "daily_plot_merged.set_ylabel('# FB Posts', weight='bold', labelpad=15) \n",
        "\n",
        "plt.xticks(fontsize = 9, rotation = 45, ha =\"left\") \n",
        "plt.yticks(fontsize = 9)"
      ]
    },
    {
      "cell_type": "code",
      "execution_count": null,
      "metadata": {
        "colab": {
          "base_uri": "https://localhost:8080/",
          "height": 533
        },
        "id": "kA9XCxMG3QnG",
        "outputId": "a27ee982-4742-4bea-9239-6178e1e25dd7"
      },
      "outputs": [],
      "source": [
        "daily_count_merged['Number_of_Posts'].plot(kind='bar')"
      ]
    },
    {
      "cell_type": "code",
      "execution_count": null,
      "metadata": {
        "id": "M5T4zQ1aMsQ-"
      },
      "outputs": [],
      "source": [
        "hourly_count_merged = df_merged.groupby(df_merged.index.hour).apply(f)\n",
        "hourly_count_saf = df_saf.groupby(df_saf.index.hour).apply(f)\n",
        "hourly_count_rsf = df_rsf.groupby(df_rsf.index.hour).apply(f)\n",
        "hourly_count_merged.index.name, hourly_count_saf.index.name, hourly_count_rsf.index.name = 'hour', 'hour', 'hour'\n",
        "\n",
        "# Adjusting time to represent the actual hours from (1 to 24)\n",
        "hourly_count_merged.index = hourly_count_merged.index + 1\n",
        "hourly_count_saf.index = hourly_count_saf.index + 1\n",
        "hourly_count_rsf.index = hourly_count_rsf.index + 1"
      ]
    },
    {
      "cell_type": "code",
      "execution_count": null,
      "metadata": {
        "colab": {
          "base_uri": "https://localhost:8080/",
          "height": 481
        },
        "id": "QatGaPQfkWRg",
        "outputId": "c27634ae-2a06-41f1-d946-6a6467aa296a"
      },
      "outputs": [],
      "source": [
        "plt.figure(figsize=(15,5))\n",
        "hourly_plot_merged = hourly_count_merged['Number_of_Posts'].plot(kind='line')\n",
        "hourly_plot_saf = hourly_count_saf['Number_of_Posts'].plot(kind='line')\n",
        "hourly_plot_rsf = hourly_count_rsf['Number_of_Posts'].plot(kind='line')\n",
        "\n",
        "# hours = list(range(0,25))\n",
        "\n",
        "hourly_plot_merged.set_xlabel('Hours of the day', weight='bold', labelpad=15) \n",
        "hourly_plot_merged.set_ylabel('# FB Posts', weight='bold', labelpad=15) \n",
        "\n",
        "plt.xticks(np.arange(25), rotation = 0, fontsize=9,ha=\"center\") \n",
        "plt.yticks(fontsize = 9)\n",
        "\n",
        "hourly_plot_merged.tick_params(axis='x', pad=5)                                   #SET PADDING ABOVE X-AXIS LABELS\n",
        "\n",
        "hourly_plot_merged.legend_ = None                                                 #TURN OFF LEGEND\n"
      ]
    },
    {
      "cell_type": "code",
      "execution_count": null,
      "metadata": {
        "colab": {
          "base_uri": "https://localhost:8080/",
          "height": 481
        },
        "id": "BWTKPTXxhwRb",
        "outputId": "9834d028-2dba-42eb-ccf7-582aa24f1cda"
      },
      "outputs": [],
      "source": [
        "plt.figure(figsize=(15,5))\n",
        "\n",
        "hourly_plot_merged = hourly_count_merged['Number_of_Posts'].plot(kind='bar')\n",
        "\n",
        "hourly_plot_merged.set_xlabel('Hours of the day', weight='bold', labelpad=15) \n",
        "hourly_plot_merged.set_ylabel('# FB Posts', weight='bold', labelpad=15) \n",
        "\n",
        "plt.xticks(np.arange(24), rotation = 0, fontsize=9,ha=\"center\") \n",
        "plt.yticks(fontsize = 9)\n",
        "\n",
        "hourly_plot_merged.tick_params(axis='x', pad=5)                                   #SET PADDING ABOVE X-AXIS LABELS\n",
        "\n",
        "hourly_plot_merged.legend_ = None                                                 #TURN OFF LEGEND\n"
      ]
    },
    {
      "cell_type": "code",
      "execution_count": null,
      "metadata": {
        "colab": {
          "base_uri": "https://localhost:8080/"
        },
        "id": "89kjKpUTxdM_",
        "outputId": "02f909f7-58ec-4d3f-fd13-70266334d43a"
      },
      "outputs": [],
      "source": []
    },
    {
      "cell_type": "code",
      "execution_count": null,
      "metadata": {
        "colab": {
          "base_uri": "https://localhost:8080/",
          "height": 331
        },
        "id": "gse9FO67t2yZ",
        "outputId": "00869ca5-3135-46ad-d3a9-0e17583c8533"
      },
      "outputs": [],
      "source": [
        "from wordcloud import WordCloud\n",
        "import arabic_reshaper\n",
        "from bidi.algorithm import get_display\n",
        "\n",
        "f = df_merged['text'][0]\n",
        "\n",
        "# Make text readable for a non-Arabic library like wordcloud\n",
        "text = arabic_reshaper.reshape(f)\n",
        "text = get_display(text)\n",
        "\n",
        "# Generate a word cloud image\n",
        "wordcloud = WordCloud(font_path='Adobe Arabic Regular.ttf').generate(text)\n",
        "plt.imshow(wordcloud)"
      ]
    },
    {
      "cell_type": "code",
      "execution_count": null,
      "metadata": {
        "id": "zDZRehA77vLt"
      },
      "outputs": [],
      "source": []
    }
  ],
  "metadata": {
    "colab": {
      "provenance": []
    },
    "kernelspec": {
      "display_name": "Python 3",
      "name": "python3"
    },
    "language_info": {
      "codemirror_mode": {
        "name": "ipython",
        "version": 3
      },
      "file_extension": ".py",
      "mimetype": "text/x-python",
      "name": "python",
      "nbconvert_exporter": "python",
      "pygments_lexer": "ipython3",
      "version": "3.9.16"
    }
  },
  "nbformat": 4,
  "nbformat_minor": 0
}
